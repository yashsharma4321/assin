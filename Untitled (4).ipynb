{
 "cells": [
  {
   "cell_type": "code",
   "execution_count": 1,
   "id": "5d000589-6ab5-48dc-9f4a-ec006b04b42d",
   "metadata": {},
   "outputs": [],
   "source": [
    "#Q1, Create a vehicle class with an init method having instance variables as name_of_vehicle, max_speed and average_of_vehicle.\n"
   ]
  },
  {
   "cell_type": "code",
   "execution_count": 26,
   "id": "4a98312f-797b-47d4-b1bc-a1e3904630cc",
   "metadata": {},
   "outputs": [
    {
     "data": {
      "text/plain": [
       "'hero honda'"
      ]
     },
     "execution_count": 26,
     "metadata": {},
     "output_type": "execute_result"
    }
   ],
   "source": [
    "#ans:\n",
    "class vehicle:\n",
    "    def __init__(self,name_of_vehicle,max_speed ,average_of_vehicle):\n",
    "        self.name_of_vehicle =  name_of_vehicle\n",
    "        self.max_speed = max_speed\n",
    "        self.average_of_vehicle = average_of_vehicle\n",
    "    \n",
    "a = vehicle(\"hero honda\",200,3420)\n",
    "a.name_of_vehicle\n",
    "        "
   ]
  },
  {
   "cell_type": "code",
   "execution_count": 27,
   "id": "e7a9c7e6-5648-458c-825b-fbffd39d655a",
   "metadata": {},
   "outputs": [],
   "source": [
    "a = vehicle(\"hero honda\",200,3420)"
   ]
  },
  {
   "cell_type": "code",
   "execution_count": 28,
   "id": "e33808c8-a298-4f75-82f9-90e8a0cf1b48",
   "metadata": {},
   "outputs": [
    {
     "data": {
      "text/plain": [
       "'hero honda'"
      ]
     },
     "execution_count": 28,
     "metadata": {},
     "output_type": "execute_result"
    }
   ],
   "source": [
    "a.name_of_vehicle"
   ]
  },
  {
   "cell_type": "code",
   "execution_count": 29,
   "id": "af1d4166-8c7d-4275-917c-43d320d94164",
   "metadata": {},
   "outputs": [],
   "source": [
    "#Q2. Create a child class car from the vehicle class created in Que 1, which will inherit the vehicle class.\n",
    "#Create a method named seating_capacity which takes capacity as an argument and returns the name of\n",
    "#the vehicle and its seating capacity."
   ]
  },
  {
   "cell_type": "code",
   "execution_count": 42,
   "id": "4405e761-bf2d-4b98-8fb4-7ece6c922627",
   "metadata": {},
   "outputs": [],
   "source": [
    "class Vehicle:\n",
    "    def __init__(self, name_of_vehicle, max_speed, average_of_vehicle):\n",
    "        self.name_of_vehicle = name_of_vehicle\n",
    "        self.max_speed = max_speed\n",
    "        self.average_of_vehicle = average_of_vehicle\n",
    "\n",
    "class Car(Vehicle):\n",
    "    def __init__(self, name_of_vehicle, max_speed, average_of_vehicle):\n",
    "        super().__init__(name_of_vehicle, max_speed, average_of_vehicle)\n",
    "    \n",
    "    def seating_capacity(self, capacity):\n",
    "        return f\"{self.name_of_vehicle} - Seating Capacity: {capacity} passengers\"\n"
   ]
  },
  {
   "cell_type": "code",
   "execution_count": 43,
   "id": "b550bd03-8678-4ecd-9a74-e20dbdfa5f60",
   "metadata": {},
   "outputs": [],
   "source": [
    "car = Car(\"yash\",424,42)"
   ]
  },
  {
   "cell_type": "code",
   "execution_count": 48,
   "id": "19657f92-2856-4ac9-8df7-7234b26dffdb",
   "metadata": {},
   "outputs": [
    {
     "name": "stdout",
     "output_type": "stream",
     "text": [
      "yash - Seating Capacity: 3 passengers\n"
     ]
    }
   ],
   "source": [
    "print(car.seating_capacity(3))"
   ]
  },
  {
   "cell_type": "code",
   "execution_count": 1,
   "id": "432440da-e7bb-44a4-a59e-cf1eab35c2ee",
   "metadata": {},
   "outputs": [],
   "source": [
    "#Q3. What is multiple inheritance? Write a python code to demonstrate multiple inheritance.\n",
    "#ans: Multiple inheritance is a concept in object-oriented programming where a class inherits attributes and methods from more than one parent class. In Python, a class can inherit from multiple classes using multiple inheritance.Here's an example of multiple inheritance in Python:"
   ]
  },
  {
   "cell_type": "code",
   "execution_count": 2,
   "id": "c9a5acdd-11d9-4c4c-ae29-282cb01f70b4",
   "metadata": {},
   "outputs": [
    {
     "name": "stdout",
     "output_type": "stream",
     "text": [
      "Method from Parent1\n",
      "Method from Parent2\n",
      "Method from Child\n"
     ]
    }
   ],
   "source": [
    "class Parent1:\n",
    "    def method1(self):\n",
    "        print(\"Method from Parent1\")\n",
    "\n",
    "class Parent2:\n",
    "    def method2(self):\n",
    "        print(\"Method from Parent2\")\n",
    "\n",
    "# Child class inheriting from both Parent1 and Parent2\n",
    "class Child(Parent1, Parent2):\n",
    "    def method3(self):\n",
    "        print(\"Method from Child\")\n",
    "\n",
    "# Creating an instance of the Child class\n",
    "child_instance = Child()\n",
    "\n",
    "# Calling methods from Parent1, Parent2, and Child classes\n",
    "child_instance.method1()\n",
    "child_instance.method2()\n",
    "child_instance.method3()\n"
   ]
  },
  {
   "cell_type": "code",
   "execution_count": 1,
   "id": "6ebfc8b2-fcbe-4c4a-9936-3cd63a3f5886",
   "metadata": {},
   "outputs": [],
   "source": [
    "#Q4. What are getter and setter in python? Create a class and create a getter and a setter method in this class."
   ]
  },
  {
   "cell_type": "code",
   "execution_count": 2,
   "id": "61a0aac4-b901-4139-9028-d7725b41dd66",
   "metadata": {},
   "outputs": [
    {
     "name": "stdout",
     "output_type": "stream",
     "text": [
      "Initial name: Alice\n",
      "Initial age: 20\n",
      "Age cannot be negative.\n",
      "Updated name: Bob\n",
      "Updated age: 20\n"
     ]
    }
   ],
   "source": [
    "class Student:\n",
    "    def __init__(self, name, age):\n",
    "        self._name = name  # Private attribute with a single underscore\n",
    "        self._age = age    # Private attribute with a single underscore\n",
    "\n",
    "    # Getter method for 'name'\n",
    "    def get_name(self):\n",
    "        return self._name\n",
    "\n",
    "    # Setter method for 'name'\n",
    "    def set_name(self, name):\n",
    "        if len(name) >= 2:\n",
    "            self._name = name\n",
    "        else:\n",
    "            print(\"Name must have at least 2 characters.\")\n",
    "\n",
    "    # Getter method for 'age'\n",
    "    def get_age(self):\n",
    "        return self._age\n",
    "\n",
    "    # Setter method for 'age'\n",
    "    def set_age(self, age):\n",
    "        if age >= 0:\n",
    "            self._age = age\n",
    "        else:\n",
    "            print(\"Age cannot be negative.\")\n",
    "\n",
    "# Creating an instance of the Student class\n",
    "student = Student(\"Alice\", 20)\n",
    "\n",
    "# Using getter and setter methods\n",
    "print(\"Initial name:\", student.get_name())\n",
    "print(\"Initial age:\", student.get_age())\n",
    "\n",
    "student.set_name(\"Bob\")\n",
    "student.set_age(-5)\n",
    "\n",
    "print(\"Updated name:\", student.get_name())\n",
    "print(\"Updated age:\", student.get_age())\n"
   ]
  },
  {
   "cell_type": "code",
   "execution_count": null,
   "id": "81d1e50b-90b0-4a6b-9661-7072860292a0",
   "metadata": {},
   "outputs": [],
   "source": [
    "#Q5.What is method overriding in python? Write a python code to demonstrate method overriding.#"
   ]
  }
 ],
 "metadata": {
  "kernelspec": {
   "display_name": "Python 3 (ipykernel)",
   "language": "python",
   "name": "python3"
  },
  "language_info": {
   "codemirror_mode": {
    "name": "ipython",
    "version": 3
   },
   "file_extension": ".py",
   "mimetype": "text/x-python",
   "name": "python",
   "nbconvert_exporter": "python",
   "pygments_lexer": "ipython3",
   "version": "3.10.8"
  }
 },
 "nbformat": 4,
 "nbformat_minor": 5
}
